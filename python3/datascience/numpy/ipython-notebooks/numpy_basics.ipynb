{
 "cells": [
  {
   "cell_type": "markdown",
   "metadata": {
    "pycharm": {}
   },
   "source": [
    "## Numpy Basics\n",
    "* Creating numpy arrays\n",
    "* Numpy Arrays vs Python Lists\n",
    "* arange vs linspace\n",
    "* Basic array operations\n",
    "* Indexing/Slicing/Iterating numpy Arrays"
   ]
  },
  {
   "cell_type": "markdown",
   "metadata": {
    "pycharm": {}
   },
   "source": [
    "### Creating Arrays"
   ]
  },
  {
   "cell_type": "markdown",
   "metadata": {
    "pycharm": {}
   },
   "source": [
    "#### Creating 1 and 2 dimensional arrays"
   ]
  },
  {
   "cell_type": "code",
   "execution_count": 29,
   "metadata": {
    "pycharm": {}
   },
   "outputs": [],
   "source": [
    "import numpy as np"
   ]
  },
  {
   "cell_type": "code",
   "execution_count": 30,
   "metadata": {
    "pycharm": {}
   },
   "outputs": [
    {
     "data": {
      "text/plain": [
       "array([ 2,  9,  1, 56])"
      ]
     },
     "execution_count": 30,
     "metadata": {},
     "output_type": "execute_result"
    }
   ],
   "source": [
    "b = np.array([2,9,1,56])\n",
    "b"
   ]
  },
  {
   "cell_type": "code",
   "execution_count": 31,
   "metadata": {
    "pycharm": {}
   },
   "outputs": [
    {
     "data": {
      "text/plain": [
       "(dtype('int64'), (4,), 1, 4)"
      ]
     },
     "execution_count": 31,
     "metadata": {},
     "output_type": "execute_result"
    }
   ],
   "source": [
    "b.dtype, b.shape, b.ndim, b.size"
   ]
  },
  {
   "cell_type": "code",
   "execution_count": 32,
   "metadata": {
    "pycharm": {}
   },
   "outputs": [
    {
     "data": {
      "text/plain": [
       "array([[11.2, 22.2],\n",
       "       [12. , 44. ]])"
      ]
     },
     "execution_count": 32,
     "metadata": {},
     "output_type": "execute_result"
    }
   ],
   "source": [
    "c = np.array([[11.2, 22.2], [12, 44]])\n",
    "c"
   ]
  },
  {
   "cell_type": "code",
   "execution_count": 33,
   "metadata": {
    "pycharm": {}
   },
   "outputs": [
    {
     "data": {
      "text/plain": [
       "(dtype('float64'), (2, 2), 2, 4, 8)"
      ]
     },
     "execution_count": 33,
     "metadata": {},
     "output_type": "execute_result"
    }
   ],
   "source": [
    "c.dtype, c.shape, c.ndim, c.size, c.itemsize"
   ]
  },
  {
   "cell_type": "code",
   "execution_count": 34,
   "metadata": {
    "pycharm": {}
   },
   "outputs": [
    {
     "data": {
      "text/plain": [
       "array([[ 0,  1,  2,  3],\n",
       "       [ 4,  5,  6,  7],\n",
       "       [ 8,  9, 10, 11]])"
      ]
     },
     "execution_count": 34,
     "metadata": {},
     "output_type": "execute_result"
    }
   ],
   "source": [
    "a = np.arange(12).reshape(3,4)\n",
    "a"
   ]
  },
  {
   "cell_type": "code",
   "execution_count": 35,
   "metadata": {
    "pycharm": {}
   },
   "outputs": [
    {
     "data": {
      "text/plain": [
       "(dtype('int64'), (3, 4), 2, 12, 8)"
      ]
     },
     "execution_count": 35,
     "metadata": {},
     "output_type": "execute_result"
    }
   ],
   "source": [
    "a.dtype, a.shape, a.ndim, a.size, a.itemsize"
   ]
  },
  {
   "cell_type": "code",
   "execution_count": 36,
   "metadata": {
    "pycharm": {}
   },
   "outputs": [
    {
     "data": {
      "text/plain": [
       "((array([[1., 1.],\n",
       "         [1., 1.],\n",
       "         [1., 1.]]),), (array([[0., 0., 0., 0.],\n",
       "         [0., 0., 0., 0.]]),), (array([[0.05442362, 0.52398429],\n",
       "         [0.47600048, 0.0198957 ],\n",
       "         [0.93041624, 0.94274199],\n",
       "         [0.25520847, 0.86843788],\n",
       "         [0.17866362, 0.14161482]]),))"
      ]
     },
     "execution_count": 36,
     "metadata": {},
     "output_type": "execute_result"
    }
   ],
   "source": [
    "a = np.ones(6).reshape(3,2),\n",
    "b = np.zeros(8).reshape(2,4),\n",
    "c = np.random.rand(10).reshape(5,2),\n",
    "a,b,c"
   ]
  },
  {
   "cell_type": "markdown",
   "metadata": {
    "pycharm": {}
   },
   "source": [
    "#### Creating n dimenional arrays"
   ]
  },
  {
   "cell_type": "code",
   "execution_count": 37,
   "metadata": {
    "pycharm": {}
   },
   "outputs": [
    {
     "data": {
      "text/plain": [
       "array([[[6, 4, 1, 4, 3],\n",
       "        [5, 0, 6, 4, 9]],\n",
       "\n",
       "       [[1, 5, 2, 1, 2],\n",
       "        [9, 5, 0, 3, 0]],\n",
       "\n",
       "       [[4, 8, 9, 5, 8],\n",
       "        [7, 9, 7, 8, 9]]])"
      ]
     },
     "execution_count": 37,
     "metadata": {},
     "output_type": "execute_result"
    }
   ],
   "source": [
    "# This will create a ndim array which will have 3 sub-arrays of shape(2,5)\n",
    "a = np.random.randint(10, size=(3, 2, 5))\n",
    "a"
   ]
  },
  {
   "cell_type": "code",
   "execution_count": 38,
   "metadata": {
    "pycharm": {}
   },
   "outputs": [
    {
     "data": {
      "text/plain": [
       "(array([[[[     140118469729720,       94179392071024],\n",
       "          [      94179367201872,                   10],\n",
       "          [                  11,          -4244635901]],\n",
       " \n",
       "         [[    -275968828700929,   -69235104739754240],\n",
       "          [      -1060856986369,  2574352502877767984],\n",
       "          [     140118342889072,       94179369472960]],\n",
       " \n",
       "         [[-7368309629848930932,      140118390647280],\n",
       "          [     140118347322096,  4855390706983928003],\n",
       "          [     140118342889200,      140118342962400]],\n",
       " \n",
       "         [[ 6699708544685076800,      140118436811440],\n",
       "          [      94179369473120,   410024062354718713],\n",
       "          [     140118472639408,       94179369349920]]],\n",
       " \n",
       " \n",
       "        [[[ 5799929027325005261,      140118342889264],\n",
       "          [      94179369475232,  7160701276206254457],\n",
       "          [     140118342962512,      140118473895472]],\n",
       " \n",
       "         [[ 6441946085325401749,      140118342962568],\n",
       "          [     140118473895416,  5813800682530690364],\n",
       "          [     140118448182808,      140118472981056]],\n",
       " \n",
       "         [[-5585968024955821472,      140118451526000],\n",
       "          [      94179369336912,  2931917996625437494],\n",
       "          [     140118435263688,       94179369349920]],\n",
       " \n",
       "         [[                   0,                    0],\n",
       "          [                   0,                    0],\n",
       "          [                   0,                    0]]],\n",
       " \n",
       " \n",
       "        [[[                   0,                    0],\n",
       "          [                   0,                    0],\n",
       "          [                   0,                    0]],\n",
       " \n",
       "         [[                   0,                    0],\n",
       "          [                   0,                    0],\n",
       "          [                   0,                    0]],\n",
       " \n",
       "         [[                   0,                    0],\n",
       "          [                   0,                    0],\n",
       "          [                   0,                    0]],\n",
       " \n",
       "         [[                   0,                    0],\n",
       "          [                   0,                    0],\n",
       "          [                   0,                    0]]]]),\n",
       " 4,\n",
       " (3, 4, 3, 2),\n",
       " 72)"
      ]
     },
     "execution_count": 38,
     "metadata": {},
     "output_type": "execute_result"
    }
   ],
   "source": [
    "# This will create ndim array with 4 sub-arrays each having a 3 sub-sub-arrays of shape(3,2)\n",
    "a = np.empty((3,4,3,2), dtype=int)\n",
    "a, a.ndim, a.shape, a.size"
   ]
  },
  {
   "cell_type": "code",
   "execution_count": 39,
   "metadata": {
    "pycharm": {}
   },
   "outputs": [
    {
     "data": {
      "text/plain": [
       "array([[0, 1],\n",
       "       [1, 2],\n",
       "       [2, 3]])"
      ]
     },
     "execution_count": 39,
     "metadata": {},
     "output_type": "execute_result"
    }
   ],
   "source": [
    "a = np.fromfunction(lambda i, j: (i + j), (3, 2), dtype=int)\n",
    "a"
   ]
  },
  {
   "cell_type": "markdown",
   "metadata": {
    "pycharm": {}
   },
   "source": [
    "### arange vs linspace"
   ]
  },
  {
   "cell_type": "code",
   "execution_count": 40,
   "metadata": {
    "pycharm": {}
   },
   "outputs": [
    {
     "data": {
      "text/plain": [
       "array([10, 15, 20, 25, 30, 35])"
      ]
     },
     "execution_count": 40,
     "metadata": {},
     "output_type": "execute_result"
    }
   ],
   "source": [
    "# arnage(start, stop, step)\n",
    "a = np.arange(10, 40, 5)\n",
    "a"
   ]
  },
  {
   "cell_type": "code",
   "execution_count": 41,
   "metadata": {
    "pycharm": {}
   },
   "outputs": [
    {
     "data": {
      "text/plain": [
       "array([10.        , 10.6122449 , 11.2244898 , 11.83673469, 12.44897959,\n",
       "       13.06122449, 13.67346939, 14.28571429, 14.89795918, 15.51020408,\n",
       "       16.12244898, 16.73469388, 17.34693878, 17.95918367, 18.57142857,\n",
       "       19.18367347, 19.79591837, 20.40816327, 21.02040816, 21.63265306,\n",
       "       22.24489796, 22.85714286, 23.46938776, 24.08163265, 24.69387755,\n",
       "       25.30612245, 25.91836735, 26.53061224, 27.14285714, 27.75510204,\n",
       "       28.36734694, 28.97959184, 29.59183673, 30.20408163, 30.81632653,\n",
       "       31.42857143, 32.04081633, 32.65306122, 33.26530612, 33.87755102,\n",
       "       34.48979592, 35.10204082, 35.71428571, 36.32653061, 36.93877551,\n",
       "       37.55102041, 38.16326531, 38.7755102 , 39.3877551 , 40.        ])"
      ]
     },
     "execution_count": 41,
     "metadata": {},
     "output_type": "execute_result"
    }
   ],
   "source": [
    "# linspace(start, stop, number) number is optional and default vlaue is 50\n",
    "a = np.linspace(10, 40)\n",
    "a"
   ]
  },
  {
   "cell_type": "code",
   "execution_count": 42,
   "metadata": {
    "pycharm": {}
   },
   "outputs": [
    {
     "data": {
      "text/plain": [
       "array([10.        , 13.33333333, 16.66666667, 20.        , 23.33333333,\n",
       "       26.66666667, 30.        , 33.33333333, 36.66666667, 40.        ])"
      ]
     },
     "execution_count": 42,
     "metadata": {},
     "output_type": "execute_result"
    }
   ],
   "source": [
    "a = np.linspace(10, 40, 10)\n",
    "a"
   ]
  },
  {
   "cell_type": "markdown",
   "metadata": {
    "pycharm": {}
   },
   "source": [
    "## Iterating numpy arrays"
   ]
  },
  {
   "cell_type": "code",
   "execution_count": 43,
   "metadata": {
    "pycharm": {}
   },
   "outputs": [
    {
     "name": "stdout",
     "output_type": "stream",
     "text": [
      "[0 1 2 3 4]\n",
      "[5 6 7 8 9]\n",
      "[10 11 12 13 14]\n",
      "[15 16 17 18 19]\n",
      "[20 21 22 23 24]\n",
      "[25 26 27 28 29]\n"
     ]
    }
   ],
   "source": [
    "a = np.arange(30).reshape(6,5)\n",
    "for row in a:\n",
    "    print(row)"
   ]
  },
  {
   "cell_type": "code",
   "execution_count": 44,
   "metadata": {
    "pycharm": {}
   },
   "outputs": [
    {
     "name": "stdout",
     "output_type": "stream",
     "text": [
      "0\n",
      "1\n",
      "2\n",
      "3\n",
      "4\n",
      "5\n",
      "6\n",
      "7\n",
      "8\n",
      "9\n",
      "10\n",
      "11\n",
      "12\n",
      "13\n",
      "14\n",
      "15\n",
      "16\n",
      "17\n",
      "18\n",
      "19\n",
      "20\n",
      "21\n",
      "22\n",
      "23\n",
      "24\n",
      "25\n",
      "26\n",
      "27\n",
      "28\n",
      "29\n"
     ]
    }
   ],
   "source": [
    "for cell in a.flat:\n",
    "    print(cell)"
   ]
  },
  {
   "cell_type": "code",
   "execution_count": 45,
   "metadata": {
    "pycharm": {}
   },
   "outputs": [
    {
     "data": {
      "text/plain": [
       "array([ 0,  1,  2,  3,  4,  5,  6,  7,  8,  9, 10, 11, 12, 13, 14, 15, 16,\n",
       "       17, 18, 19, 20, 21, 22, 23, 24, 25, 26, 27, 28, 29])"
      ]
     },
     "execution_count": 45,
     "metadata": {},
     "output_type": "execute_result"
    }
   ],
   "source": [
    "a.flatten()"
   ]
  },
  {
   "cell_type": "code",
   "execution_count": 46,
   "metadata": {
    "pycharm": {}
   },
   "outputs": [
    {
     "name": "stdout",
     "output_type": "stream",
     "text": [
      "Index = (0, 0), Value=0\n",
      "Index = (0, 1), Value=1\n",
      "Index = (0, 2), Value=2\n",
      "Index = (0, 3), Value=3\n",
      "Index = (0, 4), Value=4\n",
      "Index = (1, 0), Value=5\n",
      "Index = (1, 1), Value=6\n",
      "Index = (1, 2), Value=7\n",
      "Index = (1, 3), Value=8\n",
      "Index = (1, 4), Value=9\n",
      "Index = (2, 0), Value=10\n",
      "Index = (2, 1), Value=11\n",
      "Index = (2, 2), Value=12\n",
      "Index = (2, 3), Value=13\n",
      "Index = (2, 4), Value=14\n",
      "Index = (3, 0), Value=15\n",
      "Index = (3, 1), Value=16\n",
      "Index = (3, 2), Value=17\n",
      "Index = (3, 3), Value=18\n",
      "Index = (3, 4), Value=19\n",
      "Index = (4, 0), Value=20\n",
      "Index = (4, 1), Value=21\n",
      "Index = (4, 2), Value=22\n",
      "Index = (4, 3), Value=23\n",
      "Index = (4, 4), Value=24\n",
      "Index = (5, 0), Value=25\n",
      "Index = (5, 1), Value=26\n",
      "Index = (5, 2), Value=27\n",
      "Index = (5, 3), Value=28\n",
      "Index = (5, 4), Value=29\n"
     ]
    }
   ],
   "source": [
    "for idx, val in np.ndenumerate(a):\n",
    "    print(f\"Index = {idx}, Value={val}\")"
   ]
  },
  {
   "cell_type": "markdown",
   "metadata": {
    "pycharm": {}
   },
   "source": [
    "## Operations on arrays"
   ]
  },
  {
   "cell_type": "code",
   "execution_count": 55,
   "metadata": {
    "pycharm": {}
   },
   "outputs": [
    {
     "data": {
      "text/plain": [
       "array([[0, 1],\n",
       "       [2, 3],\n",
       "       [4, 5]])"
      ]
     },
     "execution_count": 55,
     "metadata": {},
     "output_type": "execute_result"
    }
   ],
   "source": [
    "a = np.arange(6).reshape(3,2)\n",
    "a"
   ]
  },
  {
   "cell_type": "code",
   "execution_count": 56,
   "metadata": {},
   "outputs": [
    {
     "data": {
      "text/plain": [
       "array([[10, 11],\n",
       "       [12, 13],\n",
       "       [14, 15]])"
      ]
     },
     "execution_count": 56,
     "metadata": {},
     "output_type": "execute_result"
    }
   ],
   "source": [
    "b = np.arange(10,16).reshape(3,2)\n",
    "b"
   ]
  },
  {
   "cell_type": "code",
   "execution_count": 57,
   "metadata": {},
   "outputs": [
    {
     "data": {
      "text/plain": [
       "array([[10, 12],\n",
       "       [14, 16],\n",
       "       [18, 20]])"
      ]
     },
     "execution_count": 57,
     "metadata": {},
     "output_type": "execute_result"
    }
   ],
   "source": [
    "a + b"
   ]
  },
  {
   "cell_type": "code",
   "execution_count": 59,
   "metadata": {},
   "outputs": [
    {
     "data": {
      "text/plain": [
       "array([[ 0, 11],\n",
       "       [24, 39],\n",
       "       [56, 75]])"
      ]
     },
     "execution_count": 59,
     "metadata": {},
     "output_type": "execute_result"
    }
   ],
   "source": [
    "a * b"
   ]
  },
  {
   "cell_type": "code",
   "execution_count": 60,
   "metadata": {},
   "outputs": [
    {
     "data": {
      "text/plain": [
       "array([[-10, -10],\n",
       "       [-10, -10],\n",
       "       [-10, -10]])"
      ]
     },
     "execution_count": 60,
     "metadata": {},
     "output_type": "execute_result"
    }
   ],
   "source": [
    "a - b"
   ]
  },
  {
   "cell_type": "code",
   "execution_count": 64,
   "metadata": {},
   "outputs": [
    {
     "data": {
      "text/plain": [
       "array([[ 0,  1,  2,  3,  4],\n",
       "       [ 5,  6,  7,  8,  9],\n",
       "       [10, 11, 12, 13, 14],\n",
       "       [15, 16, 17, 18, 19]])"
      ]
     },
     "execution_count": 64,
     "metadata": {},
     "output_type": "execute_result"
    }
   ],
   "source": [
    "a = np.arange(20).reshape(4,5)\n",
    "a"
   ]
  },
  {
   "cell_type": "code",
   "execution_count": 66,
   "metadata": {},
   "outputs": [
    {
     "data": {
      "text/plain": [
       "array([30, 34, 38, 42, 46])"
      ]
     },
     "execution_count": 66,
     "metadata": {},
     "output_type": "execute_result"
    }
   ],
   "source": [
    "a.sum(axis=0) # sum of all coulmns"
   ]
  },
  {
   "cell_type": "code",
   "execution_count": 67,
   "metadata": {},
   "outputs": [
    {
     "data": {
      "text/plain": [
       "array([10, 35, 60, 85])"
      ]
     },
     "execution_count": 67,
     "metadata": {},
     "output_type": "execute_result"
    }
   ],
   "source": [
    "a.sum(axis=1) # sum of all rows"
   ]
  },
  {
   "cell_type": "markdown",
   "metadata": {},
   "source": [
    "### Lists vs Numpy arrays"
   ]
  },
  {
   "cell_type": "code",
   "execution_count": 76,
   "metadata": {},
   "outputs": [],
   "source": [
    "import random, sys"
   ]
  },
  {
   "cell_type": "code",
   "execution_count": 111,
   "metadata": {},
   "outputs": [
    {
     "name": "stdout",
     "output_type": "stream",
     "text": [
      "CPU times: user 13.2 ms, sys: 4.14 ms, total: 17.3 ms\n",
      "Wall time: 17.1 ms\n"
     ]
    }
   ],
   "source": [
    "%%time\n",
    "l = list(range(900000))"
   ]
  },
  {
   "cell_type": "code",
   "execution_count": 112,
   "metadata": {
    "pycharm": {}
   },
   "outputs": [
    {
     "name": "stdout",
     "output_type": "stream",
     "text": [
      "CPU times: user 987 µs, sys: 3.73 ms, total: 4.71 ms\n",
      "Wall time: 3.97 ms\n"
     ]
    }
   ],
   "source": [
    "%%time\n",
    "a = np.arange(900000)"
   ]
  },
  {
   "cell_type": "code",
   "execution_count": 113,
   "metadata": {
    "pycharm": {}
   },
   "outputs": [
    {
     "data": {
      "text/plain": [
       "8100112"
      ]
     },
     "execution_count": 113,
     "metadata": {},
     "output_type": "execute_result"
    }
   ],
   "source": [
    "sys.getsizeof(l)"
   ]
  },
  {
   "cell_type": "code",
   "execution_count": 114,
   "metadata": {
    "pycharm": {}
   },
   "outputs": [
    {
     "data": {
      "text/plain": [
       "7200096"
      ]
     },
     "execution_count": 114,
     "metadata": {},
     "output_type": "execute_result"
    }
   ],
   "source": [
    "sys.getsizeof(a)"
   ]
  }
 ],
 "metadata": {
  "kernelspec": {
   "display_name": "Python 3",
   "language": "python",
   "name": "python3"
  },
  "language_info": {
   "codemirror_mode": {
    "name": "ipython",
    "version": 3
   },
   "file_extension": ".py",
   "mimetype": "text/x-python",
   "name": "python",
   "nbconvert_exporter": "python",
   "pygments_lexer": "ipython3",
   "version": "3.7.1"
  }
 },
 "nbformat": 4,
 "nbformat_minor": 2
}
