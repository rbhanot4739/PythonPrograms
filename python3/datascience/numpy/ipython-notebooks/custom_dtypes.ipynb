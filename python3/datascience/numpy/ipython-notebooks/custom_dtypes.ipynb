{
 "cells": [
  {
   "cell_type": "markdown",
   "metadata": {},
   "source": [
    "### Structured Arrays"
   ]
  },
  {
   "cell_type": "code",
   "execution_count": 1,
   "metadata": {},
   "outputs": [],
   "source": [
    "import numpy as np"
   ]
  },
  {
   "cell_type": "code",
   "execution_count": 2,
   "metadata": {},
   "outputs": [
    {
     "data": {
      "text/plain": [
       "array([(1, 1., '1'), (1, 1., '1'), (1, 1., '1'), (1, 1., '1')],\n",
       "      dtype=[('f0', '<i4'), ('f1', '<f8'), ('f2', '<U4')])"
      ]
     },
     "execution_count": 2,
     "metadata": {},
     "output_type": "execute_result"
    }
   ],
   "source": [
    "a = np.ones(4, dtype='int32, float, U4')\n",
    "a"
   ]
  },
  {
   "cell_type": "code",
   "execution_count": 3,
   "metadata": {},
   "outputs": [
    {
     "data": {
      "text/plain": [
       "array([([1, 1, 1], 1., [['1', '1'], ['1', '1']]),\n",
       "       ([1, 1, 1], 1., [['1', '1'], ['1', '1']]),\n",
       "       ([1, 1, 1], 1., [['1', '1'], ['1', '1']]),\n",
       "       ([1, 1, 1], 1., [['1', '1'], ['1', '1']])],\n",
       "      dtype=[('f0', '<i4', (3,)), ('f1', '<f8'), ('f2', '<U4', (2, 2))])"
      ]
     },
     "execution_count": 3,
     "metadata": {},
     "output_type": "execute_result"
    }
   ],
   "source": [
    "a = np.ones(4, dtype='3int32, float, (2,2)U4')\n",
    "a"
   ]
  },
  {
   "cell_type": "code",
   "execution_count": 4,
   "metadata": {},
   "outputs": [
    {
     "data": {
      "text/plain": [
       "array([('UP', 'Noida', 800000), ('Punjab', 'Mohali', 700000)],\n",
       "      dtype=[('State', '<U10'), ('city', '<U10'), ('Population', '<i8')])"
      ]
     },
     "execution_count": 4,
     "metadata": {},
     "output_type": "execute_result"
    }
   ],
   "source": [
    "dt = np.dtype([('State', 'U10'), ('city', 'U10'), ('Population', 'i8')])\n",
    "a = np.array([('UP', 'Noida', 800000), ('Punjab', 'Mohali', 700000)], dtype=dt)\n",
    "a"
   ]
  },
  {
   "cell_type": "code",
   "execution_count": 5,
   "metadata": {},
   "outputs": [
    {
     "data": {
      "text/plain": [
       "array([800000, 700000])"
      ]
     },
     "execution_count": 5,
     "metadata": {},
     "output_type": "execute_result"
    }
   ],
   "source": [
    "a['Population']"
   ]
  },
  {
   "cell_type": "code",
   "execution_count": 6,
   "metadata": {},
   "outputs": [
    {
     "data": {
      "text/plain": [
       "array([(1, [[1., 1.], [1., 1.], [1., 1.]]),\n",
       "       (1, [[1., 1.], [1., 1.], [1., 1.]]),\n",
       "       (1, [[1., 1.], [1., 1.], [1., 1.]]),\n",
       "       (1, [[1., 1.], [1., 1.], [1., 1.]])],\n",
       "      dtype=[('x', '<i4'), ('y', '<f4', (3, 2))])"
      ]
     },
     "execution_count": 6,
     "metadata": {},
     "output_type": "execute_result"
    }
   ],
   "source": [
    "a = np.ones(4, dtype=[('x', 'i4'),('y', 'f4', (3,2))])\n",
    "a"
   ]
  },
  {
   "cell_type": "code",
   "execution_count": 7,
   "metadata": {
    "scrolled": true
   },
   "outputs": [],
   "source": [
    "data = [('Amsterdam', 'Sun', (8, 52)), ('Anchorage', 'Sat', (23, 52)), ('Ankara', 'Sun', (10, 52)), ('Athens', 'Sun', (9, 52)), ('Atlanta', 'Sun', (2, 52)), ('Auckland', 'Sun', (20, 52)), ('Barcelona', 'Sun', (8, 52)), ('Beirut', 'Sun', (9, 52)), ('Berlin', 'Sun', (8, 52)), ('Boston', 'Sun', (2, 52)), ('Brasilia', 'Sun', (5, 52)), ('Brussels', 'Sun', (8, 52)), ('Bucharest', 'Sun', (9, 52)), ('Budapest', 'Sun', (8, 52)), ('Cairo', 'Sun', (9, 52)), ('Calgary', 'Sun', (1, 52)), ('Cape Town', 'Sun', (9, 52)), ('Casablanca', 'Sun', (7, 52)), ('Chicago', 'Sun', (1, 52)), ('Columbus', 'Sun', (2, 52)), ('Copenhagen', 'Sun', (8, 52)), ('Dallas', 'Sun', (1, 52)), ('Denver', 'Sun', (1, 52)), ('Detroit', 'Sun', (2, 52)), ('Dubai', 'Sun', (11, 52)), ('Dublin', 'Sun', (7, 52)), ('Edmonton', 'Sun', (1, 52)), ('Frankfurt', 'Sun', (8, 52)), ('Halifax', 'Sun', (3, 52)), ('Helsinki', 'Sun', (9, 52))]"
   ]
  },
  {
   "cell_type": "code",
   "execution_count": 8,
   "metadata": {},
   "outputs": [
    {
     "data": {
      "text/plain": [
       "[('Amsterdam', 'Sun', (8, 52)),\n",
       " ('Anchorage', 'Sat', (23, 52)),\n",
       " ('Ankara', 'Sun', (10, 52)),\n",
       " ('Athens', 'Sun', (9, 52)),\n",
       " ('Atlanta', 'Sun', (2, 52)),\n",
       " ('Auckland', 'Sun', (20, 52)),\n",
       " ('Barcelona', 'Sun', (8, 52)),\n",
       " ('Beirut', 'Sun', (9, 52)),\n",
       " ('Berlin', 'Sun', (8, 52)),\n",
       " ('Boston', 'Sun', (2, 52)),\n",
       " ('Brasilia', 'Sun', (5, 52)),\n",
       " ('Brussels', 'Sun', (8, 52)),\n",
       " ('Bucharest', 'Sun', (9, 52)),\n",
       " ('Budapest', 'Sun', (8, 52)),\n",
       " ('Cairo', 'Sun', (9, 52)),\n",
       " ('Calgary', 'Sun', (1, 52)),\n",
       " ('Cape Town', 'Sun', (9, 52)),\n",
       " ('Casablanca', 'Sun', (7, 52)),\n",
       " ('Chicago', 'Sun', (1, 52)),\n",
       " ('Columbus', 'Sun', (2, 52)),\n",
       " ('Copenhagen', 'Sun', (8, 52)),\n",
       " ('Dallas', 'Sun', (1, 52)),\n",
       " ('Denver', 'Sun', (1, 52)),\n",
       " ('Detroit', 'Sun', (2, 52)),\n",
       " ('Dubai', 'Sun', (11, 52)),\n",
       " ('Dublin', 'Sun', (7, 52)),\n",
       " ('Edmonton', 'Sun', (1, 52)),\n",
       " ('Frankfurt', 'Sun', (8, 52)),\n",
       " ('Halifax', 'Sun', (3, 52)),\n",
       " ('Helsinki', 'Sun', (9, 52))]"
      ]
     },
     "execution_count": 8,
     "metadata": {},
     "output_type": "execute_result"
    }
   ],
   "source": [
    "data"
   ]
  },
  {
   "cell_type": "code",
   "execution_count": 18,
   "metadata": {},
   "outputs": [],
   "source": [
    "struct_type = np.dtype([('city', 'U20'),('day', 'U3'),('time',[('hour', int),('minute', int)])])"
   ]
  },
  {
   "cell_type": "code",
   "execution_count": 19,
   "metadata": {},
   "outputs": [
    {
     "data": {
      "text/plain": [
       "array([('Amsterdam', 'Sun', ( 8, 52)), ('Anchorage', 'Sat', (23, 52)),\n",
       "       ('Ankara', 'Sun', (10, 52)), ('Athens', 'Sun', ( 9, 52)),\n",
       "       ('Atlanta', 'Sun', ( 2, 52)), ('Auckland', 'Sun', (20, 52)),\n",
       "       ('Barcelona', 'Sun', ( 8, 52)), ('Beirut', 'Sun', ( 9, 52)),\n",
       "       ('Berlin', 'Sun', ( 8, 52)), ('Boston', 'Sun', ( 2, 52)),\n",
       "       ('Brasilia', 'Sun', ( 5, 52)), ('Brussels', 'Sun', ( 8, 52)),\n",
       "       ('Bucharest', 'Sun', ( 9, 52)), ('Budapest', 'Sun', ( 8, 52)),\n",
       "       ('Cairo', 'Sun', ( 9, 52)), ('Calgary', 'Sun', ( 1, 52)),\n",
       "       ('Cape Town', 'Sun', ( 9, 52)), ('Casablanca', 'Sun', ( 7, 52)),\n",
       "       ('Chicago', 'Sun', ( 1, 52)), ('Columbus', 'Sun', ( 2, 52)),\n",
       "       ('Copenhagen', 'Sun', ( 8, 52)), ('Dallas', 'Sun', ( 1, 52)),\n",
       "       ('Denver', 'Sun', ( 1, 52)), ('Detroit', 'Sun', ( 2, 52)),\n",
       "       ('Dubai', 'Sun', (11, 52)), ('Dublin', 'Sun', ( 7, 52)),\n",
       "       ('Edmonton', 'Sun', ( 1, 52)), ('Frankfurt', 'Sun', ( 8, 52)),\n",
       "       ('Halifax', 'Sun', ( 3, 52)), ('Helsinki', 'Sun', ( 9, 52))],\n",
       "      dtype=[('city', '<U20'), ('day', '<U3'), ('time', [('hour', '<i8'), ('minute', '<i8')])])"
      ]
     },
     "execution_count": 19,
     "metadata": {},
     "output_type": "execute_result"
    }
   ],
   "source": [
    "city_arr = np.array(data, dtype=struct_type)\n",
    "city_arr"
   ]
  },
  {
   "cell_type": "code",
   "execution_count": 11,
   "metadata": {},
   "outputs": [
    {
     "data": {
      "text/plain": [
       "array(['Amsterdam', 'Anchorage', 'Ankara', 'Athens', 'Atlanta',\n",
       "       'Auckland', 'Barcelona', 'Beirut', 'Berlin', 'Boston', 'Brasilia',\n",
       "       'Brussels', 'Bucharest', 'Budapest', 'Cairo', 'Calgary',\n",
       "       'Cape Town', 'Casablanca', 'Chicago', 'Columbus', 'Copenhagen',\n",
       "       'Dallas', 'Denver', 'Detroit', 'Dubai', 'Dublin', 'Edmonton',\n",
       "       'Frankfurt', 'Halifax', 'Helsinki'], dtype='<U20')"
      ]
     },
     "execution_count": 11,
     "metadata": {},
     "output_type": "execute_result"
    }
   ],
   "source": [
    "city_arr['city']"
   ]
  },
  {
   "cell_type": "code",
   "execution_count": 21,
   "metadata": {},
   "outputs": [
    {
     "data": {
      "text/plain": [
       "array(['Sun'], dtype='<U3')"
      ]
     },
     "execution_count": 21,
     "metadata": {},
     "output_type": "execute_result"
    }
   ],
   "source": [
    "city_arr[city_arr['city'] == 'Athens']['day']"
   ]
  },
  {
   "cell_type": "code",
   "execution_count": null,
   "metadata": {},
   "outputs": [],
   "source": []
  }
 ],
 "metadata": {
  "kernelspec": {
   "display_name": "Python 3",
   "language": "python",
   "name": "python3"
  },
  "language_info": {
   "codemirror_mode": {
    "name": "ipython",
    "version": 3
   },
   "file_extension": ".py",
   "mimetype": "text/x-python",
   "name": "python",
   "nbconvert_exporter": "python",
   "pygments_lexer": "ipython3",
   "version": "3.7.1"
  }
 },
 "nbformat": 4,
 "nbformat_minor": 2
}
