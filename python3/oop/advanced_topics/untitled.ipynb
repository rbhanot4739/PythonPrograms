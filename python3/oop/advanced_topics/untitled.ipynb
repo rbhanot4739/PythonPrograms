{
 "cells": [
  {
   "cell_type": "code",
   "execution_count": 61,
   "metadata": {},
   "outputs": [],
   "source": [
    "class Mydict(dict):\n",
    "    \n",
    "    def __init__(self, **key):\n",
    "        super().__init__()\n",
    "        for k, v in key.items():\n",
    "            self[k] = v\n",
    "    def __setitem__(self, k, val):\n",
    "        if k in self:\n",
    "            raise KeyError(\"Can't modify the value of an existing key\")\n",
    "        else:\n",
    "            super().__setitem__(k, val)"
   ]
  },
  {
   "cell_type": "code",
   "execution_count": 63,
   "metadata": {},
   "outputs": [
    {
     "data": {
      "text/plain": [
       "{'a': 10, 'b': 20}"
      ]
     },
     "execution_count": 63,
     "metadata": {},
     "output_type": "execute_result"
    }
   ],
   "source": [
    "d = Mydict(a=10, b=20)\n",
    "d"
   ]
  },
  {
   "cell_type": "code",
   "execution_count": null,
   "metadata": {},
   "outputs": [],
   "source": []
  }
 ],
 "metadata": {
  "kernelspec": {
   "display_name": "Python 3",
   "language": "python",
   "name": "python3"
  },
  "language_info": {
   "codemirror_mode": {
    "name": "ipython",
    "version": 3
   },
   "file_extension": ".py",
   "mimetype": "text/x-python",
   "name": "python",
   "nbconvert_exporter": "python",
   "pygments_lexer": "ipython3",
   "version": "3.5.2"
  }
 },
 "nbformat": 4,
 "nbformat_minor": 2
}
